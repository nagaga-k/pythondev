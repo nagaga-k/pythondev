{
 "cells": [
  {
   "cell_type": "code",
   "execution_count": 10,
   "id": "d7d29a2d",
   "metadata": {},
   "outputs": [
    {
     "name": "stdout",
     "output_type": "stream",
     "text": [
      "5人のテストの平均点は80.0点です\n"
     ]
    }
   ],
   "source": [
    "i = 0\n",
    "sumscore = 0\n",
    "\n",
    "while True:\n",
    "    score = int(input(\"点数を入力してください：\"))\n",
    "    if score == -1:\n",
    "        break\n",
    "    i += 1\n",
    "    if i > 10:\n",
    "        break\n",
    "    if i % 2 == 1:\n",
    "        pass\n",
    "    sumscore += int( score )\n",
    "\n",
    "avgscore = float (sumscore / i)\n",
    "print(f\"{i}人のテストの平均点は{avgscore:.1f}点です\")\n"
   ]
  }
 ],
 "metadata": {
  "kernelspec": {
   "display_name": ".venv",
   "language": "python",
   "name": "python3"
  },
  "language_info": {
   "codemirror_mode": {
    "name": "ipython",
    "version": 3
   },
   "file_extension": ".py",
   "mimetype": "text/x-python",
   "name": "python",
   "nbconvert_exporter": "python",
   "pygments_lexer": "ipython3",
   "version": "3.12.10"
  }
 },
 "nbformat": 4,
 "nbformat_minor": 5
}
