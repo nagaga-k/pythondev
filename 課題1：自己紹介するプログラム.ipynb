{
 "cells": [
  {
   "cell_type": "code",
   "execution_count": null,
   "id": "86c507af",
   "metadata": {},
   "outputs": [],
   "source": [
    "\"\"\"def introduce(name,age):\"\"\"\n",
    "\n",
    "name = input(\"名前を入力してください：\") #1の入力\n",
    "age = int(input(\"現在の年齢を入力してください：\")) #2の入力\n",
    "\n",
    "print(f\"名前を入力してください：{name}\") #1の結果出力\n",
    "print(f\"現在の年齢を入力してください：{age}\") #2の結果出力\n",
    "print(f\"私の名前は {name} です。来年で {age + 1} 歳になります。\") #3の結果出力"
   ]
  }
 ],
 "metadata": {
  "kernelspec": {
   "display_name": ".venv",
   "language": "python",
   "name": "python3"
  },
  "language_info": {
   "codemirror_mode": {
    "name": "ipython",
    "version": 3
   },
   "file_extension": ".py",
   "mimetype": "text/x-python",
   "name": "python",
   "nbconvert_exporter": "python",
   "pygments_lexer": "ipython3",
   "version": "3.12.10"
  }
 },
 "nbformat": 4,
 "nbformat_minor": 5
}
